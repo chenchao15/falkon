{
 "cells": [
  {
   "cell_type": "markdown",
   "metadata": {},
   "source": [
    "## Airline Delay Dataset\n",
    "\n",
    "This is a standard benchmark dataset in **Gaussian Processes**\n",
    "\n",
    "It consists of data from all commercial flights in the US in 2008. It was first used in Hensman, 2013 who only looked the first 4 months of 2008 and subsampled to 800k points.\n",
    "\n",
    "The whole 2008 dataset **should** contain just shy of 6M data-points\n",
    "\n",
    "\n",
    "The variables in the data are 7:\n",
    " - Distance (miles)\n",
    " - Air time (minutes)\n",
    " - Departure time (\n",
    " \n",
    "  - the age of the aircraft (number of years since deployment), \n",
    " - distance that needs to be covered, \n",
    " - airtime, \n",
    " - departure time, \n",
    " - arrival time, \n",
    " - day of the week, \n",
    " - day of the month \n",
    " - month.\n",
    " \n",
    "with the goal of predicting the amount of delay in minutes.\n",
    " \n",
    "But all GP papers also add another variable:\n",
    " - aircraft_age\n",
    "which we join to the main data in this notebook\n",
    "\n",
    "\n",
    "#### Download Procedure\n",
    "1. Download flight data from https://www.transtats.bts.gov/Fields.asp?Table_ID=236\n",
    "    from january 2008 to december 2008\n",
    "2. Download plane data from http://stat-computing.org/dataexpo/2009/supplemental-data.html (plane-data.csv)\n",
    "\n",
    "#### Preprocessing\n",
    "1. Merge all flight data\n",
    "2. Join flight and plane data\n",
    "3. Drop NaNs\n",
    "4. Calculate aircraft age\n",
    "5. Save useful columns to hdf5\n",
    "\n",
    "#### References\n",
    "http://stat-computing.org/dataexpo/2009/the-data.html"
   ]
  },
  {
   "cell_type": "code",
   "execution_count": 118,
   "metadata": {},
   "outputs": [],
   "source": [
    "import pandas as pd"
   ]
  },
  {
   "cell_type": "code",
   "execution_count": 119,
   "metadata": {},
   "outputs": [
    {
     "name": "stderr",
     "output_type": "stream",
     "text": [
      "/data/giacomo/anaconda3/envs/torch/lib/python3.7/site-packages/numpy/lib/arraysetops.py:569: FutureWarning: elementwise comparison failed; returning scalar instead, but in the future will perform elementwise comparison\n",
      "  mask |= (ar1 == a)\n"
     ]
    }
   ],
   "source": [
    "file_name = \"/data/DATASETS/FLIGHTS/airline.csv\"\n",
    "df = pd.read_csv(file_name, index_col=0)"
   ]
  },
  {
   "cell_type": "code",
   "execution_count": 120,
   "metadata": {},
   "outputs": [
    {
     "data": {
      "text/html": [
       "<div>\n",
       "<style scoped>\n",
       "    .dataframe tbody tr th:only-of-type {\n",
       "        vertical-align: middle;\n",
       "    }\n",
       "\n",
       "    .dataframe tbody tr th {\n",
       "        vertical-align: top;\n",
       "    }\n",
       "\n",
       "    .dataframe thead th {\n",
       "        text-align: right;\n",
       "    }\n",
       "</style>\n",
       "<table border=\"1\" class=\"dataframe\">\n",
       "  <thead>\n",
       "    <tr style=\"text-align: right;\">\n",
       "      <th></th>\n",
       "      <th>Year</th>\n",
       "      <th>Month</th>\n",
       "      <th>DayofMonth</th>\n",
       "      <th>DayOfWeek</th>\n",
       "      <th>DepTime</th>\n",
       "      <th>ArrTime</th>\n",
       "      <th>ArrDelay</th>\n",
       "      <th>AirTime</th>\n",
       "      <th>Distance</th>\n",
       "      <th>plane_age</th>\n",
       "    </tr>\n",
       "  </thead>\n",
       "  <tbody>\n",
       "    <tr>\n",
       "      <th>0</th>\n",
       "      <td>2008</td>\n",
       "      <td>1</td>\n",
       "      <td>3</td>\n",
       "      <td>4</td>\n",
       "      <td>2003.0</td>\n",
       "      <td>2211.0</td>\n",
       "      <td>-14.0</td>\n",
       "      <td>116.0</td>\n",
       "      <td>810</td>\n",
       "      <td>10.0</td>\n",
       "    </tr>\n",
       "    <tr>\n",
       "      <th>1</th>\n",
       "      <td>2008</td>\n",
       "      <td>1</td>\n",
       "      <td>3</td>\n",
       "      <td>4</td>\n",
       "      <td>734.0</td>\n",
       "      <td>958.0</td>\n",
       "      <td>-22.0</td>\n",
       "      <td>314.0</td>\n",
       "      <td>2283</td>\n",
       "      <td>10.0</td>\n",
       "    </tr>\n",
       "    <tr>\n",
       "      <th>2</th>\n",
       "      <td>2008</td>\n",
       "      <td>1</td>\n",
       "      <td>3</td>\n",
       "      <td>4</td>\n",
       "      <td>1052.0</td>\n",
       "      <td>1603.0</td>\n",
       "      <td>-17.0</td>\n",
       "      <td>175.0</td>\n",
       "      <td>1521</td>\n",
       "      <td>10.0</td>\n",
       "    </tr>\n",
       "    <tr>\n",
       "      <th>3</th>\n",
       "      <td>2008</td>\n",
       "      <td>1</td>\n",
       "      <td>3</td>\n",
       "      <td>4</td>\n",
       "      <td>1653.0</td>\n",
       "      <td>1932.0</td>\n",
       "      <td>2.0</td>\n",
       "      <td>79.0</td>\n",
       "      <td>577</td>\n",
       "      <td>10.0</td>\n",
       "    </tr>\n",
       "    <tr>\n",
       "      <th>4</th>\n",
       "      <td>2008</td>\n",
       "      <td>1</td>\n",
       "      <td>4</td>\n",
       "      <td>5</td>\n",
       "      <td>1338.0</td>\n",
       "      <td>1440.0</td>\n",
       "      <td>10.0</td>\n",
       "      <td>48.0</td>\n",
       "      <td>239</td>\n",
       "      <td>10.0</td>\n",
       "    </tr>\n",
       "  </tbody>\n",
       "</table>\n",
       "</div>"
      ],
      "text/plain": [
       "   Year  Month  DayofMonth  DayOfWeek  DepTime  ArrTime  ArrDelay  AirTime  \\\n",
       "0  2008      1           3          4   2003.0   2211.0     -14.0    116.0   \n",
       "1  2008      1           3          4    734.0    958.0     -22.0    314.0   \n",
       "2  2008      1           3          4   1052.0   1603.0     -17.0    175.0   \n",
       "3  2008      1           3          4   1653.0   1932.0       2.0     79.0   \n",
       "4  2008      1           4          5   1338.0   1440.0      10.0     48.0   \n",
       "\n",
       "   Distance  plane_age  \n",
       "0       810       10.0  \n",
       "1      2283       10.0  \n",
       "2      1521       10.0  \n",
       "3       577       10.0  \n",
       "4       239       10.0  "
      ]
     },
     "execution_count": 120,
     "metadata": {},
     "output_type": "execute_result"
    }
   ],
   "source": [
    "df.head()"
   ]
  },
  {
   "cell_type": "code",
   "execution_count": 122,
   "metadata": {},
   "outputs": [
    {
     "name": "stdout",
     "output_type": "stream",
     "text": [
      "(5929413, 8) float64\n",
      "(5929413, 1) float64\n"
     ]
    }
   ],
   "source": [
    "X_data = df[[\n",
    "    \"Month\", \"DayofMonth\", \"DayOfWeek\", \"plane_age\", \n",
    "    \"Distance\", \"AirTime\", \"DepTime\", \"ArrTime\"]].to_numpy()\n",
    "Y_data = df[\"ArrDelay\"].to_numpy().reshape(-1, 1)\n",
    "print(X_data.shape, X_data.dtype)\n",
    "print(Y_data.shape, Y_data.dtype)"
   ]
  },
  {
   "cell_type": "code",
   "execution_count": 123,
   "metadata": {},
   "outputs": [],
   "source": [
    "with h5py.File(\"/data/DATASETS/FLIGHTS/flights.hdf5\", \"w\") as hdf5_file:\n",
    "    hdf5_file.create_dataset(\"X\", data=X_data, compression=\"gzip\", compression_opts=5)\n",
    "    hdf5_file.create_dataset(\"Y\", data=Y_data, compression=\"gzip\", compression_opts=5)"
   ]
  }
 ],
 "metadata": {
  "kernelspec": {
   "display_name": "Python 3",
   "language": "python",
   "name": "python3"
  },
  "language_info": {
   "codemirror_mode": {
    "name": "ipython",
    "version": 3
   },
   "file_extension": ".py",
   "mimetype": "text/x-python",
   "name": "python",
   "nbconvert_exporter": "python",
   "pygments_lexer": "ipython3",
   "version": "3.7.6"
  },
  "toc": {
   "base_numbering": 1,
   "nav_menu": {},
   "number_sections": true,
   "sideBar": true,
   "skip_h1_title": false,
   "title_cell": "Table of Contents",
   "title_sidebar": "Contents",
   "toc_cell": false,
   "toc_position": {},
   "toc_section_display": true,
   "toc_window_display": false
  }
 },
 "nbformat": 4,
 "nbformat_minor": 4
}
